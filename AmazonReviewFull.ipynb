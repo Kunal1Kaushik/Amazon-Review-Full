{
 "cells": [
  {
   "cell_type": "code",
   "execution_count": 1,
   "id": "2c664b59",
   "metadata": {
    "scrolled": true
   },
   "outputs": [],
   "source": [
    "import tensorflow as tf\n",
    "import seaborn as sns\n",
    "import matplotlib.pyplot as plt\n",
    "import pandas as pd\n",
    "import numpy as np\n",
    "import random\n",
    "pd.set_option('display.max_rows', 500)\n",
    "pd.set_option('display.max_columns', 500)\n",
    "pd.set_option('display.width', 1000)\n",
    "# Importing everything that is necessary!"
   ]
  },
  {
   "cell_type": "code",
   "execution_count": 2,
   "id": "cfaf4c6e",
   "metadata": {},
   "outputs": [],
   "source": [
    "train=pd.read_csv(r'C:\\Users\\91766\\Music\\amazon_review_full_csv\\amazon_review_full_csv\\train.csv', names=['rating', 'title', 'review'], header= None)\n",
    "test=pd.read_csv(r'C:\\Users\\91766\\Music\\amazon_review_full_csv\\amazon_review_full_csv\\test.csv', names=['rating', 'title', 'review'], header= None)\n",
    "# Reading the data"
   ]
  },
  {
   "cell_type": "code",
   "execution_count": 3,
   "id": "3cdc657d",
   "metadata": {},
   "outputs": [
    {
     "data": {
      "text/html": [
       "<div>\n",
       "<style scoped>\n",
       "    .dataframe tbody tr th:only-of-type {\n",
       "        vertical-align: middle;\n",
       "    }\n",
       "\n",
       "    .dataframe tbody tr th {\n",
       "        vertical-align: top;\n",
       "    }\n",
       "\n",
       "    .dataframe thead th {\n",
       "        text-align: right;\n",
       "    }\n",
       "</style>\n",
       "<table border=\"1\" class=\"dataframe\">\n",
       "  <thead>\n",
       "    <tr style=\"text-align: right;\">\n",
       "      <th></th>\n",
       "      <th>rating</th>\n",
       "      <th>title</th>\n",
       "      <th>review</th>\n",
       "    </tr>\n",
       "  </thead>\n",
       "  <tbody>\n",
       "    <tr>\n",
       "      <th>count</th>\n",
       "      <td>3.000000e+06</td>\n",
       "      <td>2999924</td>\n",
       "      <td>3000000</td>\n",
       "    </tr>\n",
       "    <tr>\n",
       "      <th>unique</th>\n",
       "      <td>NaN</td>\n",
       "      <td>2250759</td>\n",
       "      <td>2997086</td>\n",
       "    </tr>\n",
       "    <tr>\n",
       "      <th>top</th>\n",
       "      <td>NaN</td>\n",
       "      <td>Disappointed</td>\n",
       "      <td>For some inexplicable reason, Amazon has remov...</td>\n",
       "    </tr>\n",
       "    <tr>\n",
       "      <th>freq</th>\n",
       "      <td>NaN</td>\n",
       "      <td>8164</td>\n",
       "      <td>27</td>\n",
       "    </tr>\n",
       "    <tr>\n",
       "      <th>mean</th>\n",
       "      <td>3.000000e+00</td>\n",
       "      <td>NaN</td>\n",
       "      <td>NaN</td>\n",
       "    </tr>\n",
       "    <tr>\n",
       "      <th>std</th>\n",
       "      <td>1.414214e+00</td>\n",
       "      <td>NaN</td>\n",
       "      <td>NaN</td>\n",
       "    </tr>\n",
       "    <tr>\n",
       "      <th>min</th>\n",
       "      <td>1.000000e+00</td>\n",
       "      <td>NaN</td>\n",
       "      <td>NaN</td>\n",
       "    </tr>\n",
       "    <tr>\n",
       "      <th>25%</th>\n",
       "      <td>2.000000e+00</td>\n",
       "      <td>NaN</td>\n",
       "      <td>NaN</td>\n",
       "    </tr>\n",
       "    <tr>\n",
       "      <th>50%</th>\n",
       "      <td>3.000000e+00</td>\n",
       "      <td>NaN</td>\n",
       "      <td>NaN</td>\n",
       "    </tr>\n",
       "    <tr>\n",
       "      <th>75%</th>\n",
       "      <td>4.000000e+00</td>\n",
       "      <td>NaN</td>\n",
       "      <td>NaN</td>\n",
       "    </tr>\n",
       "    <tr>\n",
       "      <th>max</th>\n",
       "      <td>5.000000e+00</td>\n",
       "      <td>NaN</td>\n",
       "      <td>NaN</td>\n",
       "    </tr>\n",
       "  </tbody>\n",
       "</table>\n",
       "</div>"
      ],
      "text/plain": [
       "              rating         title                                             review\n",
       "count   3.000000e+06       2999924                                            3000000\n",
       "unique           NaN       2250759                                            2997086\n",
       "top              NaN  Disappointed  For some inexplicable reason, Amazon has remov...\n",
       "freq             NaN          8164                                                 27\n",
       "mean    3.000000e+00           NaN                                                NaN\n",
       "std     1.414214e+00           NaN                                                NaN\n",
       "min     1.000000e+00           NaN                                                NaN\n",
       "25%     2.000000e+00           NaN                                                NaN\n",
       "50%     3.000000e+00           NaN                                                NaN\n",
       "75%     4.000000e+00           NaN                                                NaN\n",
       "max     5.000000e+00           NaN                                                NaN"
      ]
     },
     "execution_count": 3,
     "metadata": {},
     "output_type": "execute_result"
    }
   ],
   "source": [
    "train.describe(include='all')"
   ]
  },
  {
   "cell_type": "code",
   "execution_count": 4,
   "id": "8aee9660",
   "metadata": {},
   "outputs": [
    {
     "data": {
      "text/html": [
       "<div>\n",
       "<style scoped>\n",
       "    .dataframe tbody tr th:only-of-type {\n",
       "        vertical-align: middle;\n",
       "    }\n",
       "\n",
       "    .dataframe tbody tr th {\n",
       "        vertical-align: top;\n",
       "    }\n",
       "\n",
       "    .dataframe thead th {\n",
       "        text-align: right;\n",
       "    }\n",
       "</style>\n",
       "<table border=\"1\" class=\"dataframe\">\n",
       "  <thead>\n",
       "    <tr style=\"text-align: right;\">\n",
       "      <th></th>\n",
       "      <th>rating</th>\n",
       "      <th>title</th>\n",
       "      <th>review</th>\n",
       "    </tr>\n",
       "  </thead>\n",
       "  <tbody>\n",
       "    <tr>\n",
       "      <th>count</th>\n",
       "      <td>650000.000000</td>\n",
       "      <td>649988</td>\n",
       "      <td>650000</td>\n",
       "    </tr>\n",
       "    <tr>\n",
       "      <th>unique</th>\n",
       "      <td>NaN</td>\n",
       "      <td>528170</td>\n",
       "      <td>649850</td>\n",
       "    </tr>\n",
       "    <tr>\n",
       "      <th>top</th>\n",
       "      <td>NaN</td>\n",
       "      <td>Disappointed</td>\n",
       "      <td>Bought a cell phone battery that, of course, d...</td>\n",
       "    </tr>\n",
       "    <tr>\n",
       "      <th>freq</th>\n",
       "      <td>NaN</td>\n",
       "      <td>1848</td>\n",
       "      <td>4</td>\n",
       "    </tr>\n",
       "    <tr>\n",
       "      <th>mean</th>\n",
       "      <td>3.000000</td>\n",
       "      <td>NaN</td>\n",
       "      <td>NaN</td>\n",
       "    </tr>\n",
       "    <tr>\n",
       "      <th>std</th>\n",
       "      <td>1.414215</td>\n",
       "      <td>NaN</td>\n",
       "      <td>NaN</td>\n",
       "    </tr>\n",
       "    <tr>\n",
       "      <th>min</th>\n",
       "      <td>1.000000</td>\n",
       "      <td>NaN</td>\n",
       "      <td>NaN</td>\n",
       "    </tr>\n",
       "    <tr>\n",
       "      <th>25%</th>\n",
       "      <td>2.000000</td>\n",
       "      <td>NaN</td>\n",
       "      <td>NaN</td>\n",
       "    </tr>\n",
       "    <tr>\n",
       "      <th>50%</th>\n",
       "      <td>3.000000</td>\n",
       "      <td>NaN</td>\n",
       "      <td>NaN</td>\n",
       "    </tr>\n",
       "    <tr>\n",
       "      <th>75%</th>\n",
       "      <td>4.000000</td>\n",
       "      <td>NaN</td>\n",
       "      <td>NaN</td>\n",
       "    </tr>\n",
       "    <tr>\n",
       "      <th>max</th>\n",
       "      <td>5.000000</td>\n",
       "      <td>NaN</td>\n",
       "      <td>NaN</td>\n",
       "    </tr>\n",
       "  </tbody>\n",
       "</table>\n",
       "</div>"
      ],
      "text/plain": [
       "               rating         title                                             review\n",
       "count   650000.000000        649988                                             650000\n",
       "unique            NaN        528170                                             649850\n",
       "top               NaN  Disappointed  Bought a cell phone battery that, of course, d...\n",
       "freq              NaN          1848                                                  4\n",
       "mean         3.000000           NaN                                                NaN\n",
       "std          1.414215           NaN                                                NaN\n",
       "min          1.000000           NaN                                                NaN\n",
       "25%          2.000000           NaN                                                NaN\n",
       "50%          3.000000           NaN                                                NaN\n",
       "75%          4.000000           NaN                                                NaN\n",
       "max          5.000000           NaN                                                NaN"
      ]
     },
     "execution_count": 4,
     "metadata": {},
     "output_type": "execute_result"
    }
   ],
   "source": [
    "test.describe(include='all')"
   ]
  },
  {
   "cell_type": "code",
   "execution_count": 5,
   "id": "e2d92be3",
   "metadata": {},
   "outputs": [],
   "source": [
    "# The datasets are quite large and we will use only a small subset of the entire data for our purposes to save time!\n",
    "# We will apply Easy Data Augmentation techniques, the benefits of which are most visible for smaller datasets, and we won't be\n",
    "# using any pretrained models."
   ]
  },
  {
   "cell_type": "code",
   "execution_count": 6,
   "id": "dc482b82",
   "metadata": {},
   "outputs": [
    {
     "name": "stderr",
     "output_type": "stream",
     "text": [
      "<ipython-input-6-fbde65eb6da9>:4: SettingWithCopyWarning: \n",
      "A value is trying to be set on a copy of a slice from a DataFrame.\n",
      "Try using .loc[row_indexer,col_indexer] = value instead\n",
      "\n",
      "See the caveats in the documentation: https://pandas.pydata.org/pandas-docs/stable/user_guide/indexing.html#returning-a-view-versus-a-copy\n",
      "  train_1['rating']=train_1['rating'] -1\n",
      "<ipython-input-6-fbde65eb6da9>:5: SettingWithCopyWarning: \n",
      "A value is trying to be set on a copy of a slice from a DataFrame.\n",
      "Try using .loc[row_indexer,col_indexer] = value instead\n",
      "\n",
      "See the caveats in the documentation: https://pandas.pydata.org/pandas-docs/stable/user_guide/indexing.html#returning-a-view-versus-a-copy\n",
      "  test_1['rating']=test_1['rating'] -1\n",
      "<ipython-input-6-fbde65eb6da9>:6: SettingWithCopyWarning: \n",
      "A value is trying to be set on a copy of a slice from a DataFrame.\n",
      "Try using .loc[row_indexer,col_indexer] = value instead\n",
      "\n",
      "See the caveats in the documentation: https://pandas.pydata.org/pandas-docs/stable/user_guide/indexing.html#returning-a-view-versus-a-copy\n",
      "  test_final['rating']=test_final['rating'] -1\n"
     ]
    }
   ],
   "source": [
    "train_1=train.iloc[:105000, :] # Training\n",
    "test_1=test.iloc[:20000, :]    # Validation\n",
    "test_final=test.iloc[20001:40000, :] # Testing\n",
    "train_1['rating']=train_1['rating'] -1\n",
    "test_1['rating']=test_1['rating'] -1\n",
    "test_final['rating']=test_final['rating'] -1\n",
    "# We will use the softmax activation function in the end for multi class classification, which for a range of 1 to 5 will \n",
    "# be considering 0 as well, which will make us have to specify the number of labels as 6. In order to avoid this, we change the \n",
    "# rating range to 0-4 from 1-5, so we can specify the number of labels as 5, and softmax can work appropriately!"
   ]
  },
  {
   "cell_type": "code",
   "execution_count": 7,
   "id": "385bc02f",
   "metadata": {},
   "outputs": [
    {
     "name": "stdout",
     "output_type": "stream",
     "text": [
      "   rating                                  title                                             review\n",
      "0       2                     more like funchuck  Gave this to my dad for a gag gift after direc...\n",
      "1       4                              Inspiring  I hope a lot of people hear this cd. We need m...\n",
      "2       4  The best soundtrack ever to anything.  I'm reading a lot of reviews saying that this ...\n",
      "3       3                       Chrono Cross OST  The music of Yasunori Misuda is without questi...\n",
      "4       4                    Too good to be true  Probably the greatest soundtrack in history! U...\n"
     ]
    }
   ],
   "source": [
    "print(train_1.head())"
   ]
  },
  {
   "cell_type": "code",
   "execution_count": 8,
   "id": "e8f6574c",
   "metadata": {},
   "outputs": [
    {
     "name": "stdout",
     "output_type": "stream",
     "text": [
      "   rating                         title                                             review\n",
      "0       0               mens ultrasheer  This model may be ok for sedentary types, but ...\n",
      "1       3       Surprisingly delightful  This is a fast read filled with unexpected hum...\n",
      "2       1  Works, but not as advertised  I bought one of these chargers..the instructio...\n",
      "3       1                       Oh dear  I was excited to find a book ostensibly about ...\n",
      "4       1               Incorrect disc!  I am a big JVC fan, but I do not like this mod...\n"
     ]
    }
   ],
   "source": [
    "print(test_1.head())"
   ]
  },
  {
   "cell_type": "code",
   "execution_count": 9,
   "id": "103fbd33",
   "metadata": {},
   "outputs": [
    {
     "name": "stdout",
     "output_type": "stream",
     "text": [
      "       rating                                       title                                             review\n",
      "20001       4  An excellent record of what it was like...  It is very well written, and has a lot of deta...\n",
      "20002       3                      Good but not objective  This book contains a lot of good information a...\n",
      "20003       4                       Texacana at it's best  Great book on the Texas Rangers. The book is e...\n",
      "20004       2                            Consider this...  This has some boom for its size, NOT crisp how...\n",
      "20005       1                                  Submarines  While this film looks and sounds very much lik...\n"
     ]
    }
   ],
   "source": [
    "print(test_final.head())"
   ]
  },
  {
   "cell_type": "code",
   "execution_count": 10,
   "id": "b3a40624",
   "metadata": {},
   "outputs": [
    {
     "data": {
      "text/plain": [
       "rating    0\n",
       "title     2\n",
       "review    0\n",
       "dtype: int64"
      ]
     },
     "execution_count": 10,
     "metadata": {},
     "output_type": "execute_result"
    }
   ],
   "source": [
    "train_1.isnull().sum()\n",
    "# We won't be using the titles as a feature, and no reviews or ratings are missing!"
   ]
  },
  {
   "cell_type": "code",
   "execution_count": 11,
   "id": "d79ee7be",
   "metadata": {},
   "outputs": [
    {
     "data": {
      "text/plain": [
       "2    21611\n",
       "4    21170\n",
       "1    21072\n",
       "3    21012\n",
       "0    20135\n",
       "Name: rating, dtype: int64"
      ]
     },
     "execution_count": 11,
     "metadata": {},
     "output_type": "execute_result"
    }
   ],
   "source": [
    "train_1['rating'].value_counts()"
   ]
  },
  {
   "cell_type": "code",
   "execution_count": 12,
   "id": "c065535e",
   "metadata": {},
   "outputs": [
    {
     "data": {
      "text/plain": [
       "<AxesSubplot:xlabel='rating', ylabel='count'>"
      ]
     },
     "execution_count": 12,
     "metadata": {},
     "output_type": "execute_result"
    },
    {
     "data": {
      "image/png": "[encoded data removed]",
      "text/plain": [
       "<Figure size 432x288 with 1 Axes>"
      ]
     },
     "metadata": {
      "needs_background": "light"
     },
     "output_type": "display_data"
    }
   ],
   "source": [
    "sns.countplot(x='rating', data=train_1)\n",
    "# A visualisation of the fact that there is no major imbalance among the 5 different labels in the training set!"
   ]
  },
  {
   "cell_type": "code",
   "execution_count": 13,
   "id": "3ffb03ee",
   "metadata": {},
   "outputs": [
    {
     "name": "stderr",
     "output_type": "stream",
     "text": [
      "<ipython-input-13-a5d3f2b2506d>:4: SettingWithCopyWarning: \n",
      "A value is trying to be set on a copy of a slice from a DataFrame.\n",
      "Try using .loc[row_indexer,col_indexer] = value instead\n",
      "\n",
      "See the caveats in the documentation: https://pandas.pydata.org/pandas-docs/stable/user_guide/indexing.html#returning-a-view-versus-a-copy\n",
      "  train_1['review']=train_1['review'].apply(lambda x: x.lower())\n",
      "<ipython-input-13-a5d3f2b2506d>:5: SettingWithCopyWarning: \n",
      "A value is trying to be set on a copy of a slice from a DataFrame.\n",
      "Try using .loc[row_indexer,col_indexer] = value instead\n",
      "\n",
      "See the caveats in the documentation: https://pandas.pydata.org/pandas-docs/stable/user_guide/indexing.html#returning-a-view-versus-a-copy\n",
      "  train_1['review']=train_1['review'].apply(lambda x: re.sub('\\w*\\d\\w*','', x))\n",
      "<ipython-input-13-a5d3f2b2506d>:6: SettingWithCopyWarning: \n",
      "A value is trying to be set on a copy of a slice from a DataFrame.\n",
      "Try using .loc[row_indexer,col_indexer] = value instead\n",
      "\n",
      "See the caveats in the documentation: https://pandas.pydata.org/pandas-docs/stable/user_guide/indexing.html#returning-a-view-versus-a-copy\n",
      "  train_1['review']=train_1['review'].apply(lambda x: re.sub('[%s]' % re.escape(string.punctuation), '', x))\n",
      "<ipython-input-13-a5d3f2b2506d>:7: SettingWithCopyWarning: \n",
      "A value is trying to be set on a copy of a slice from a DataFrame.\n",
      "Try using .loc[row_indexer,col_indexer] = value instead\n",
      "\n",
      "See the caveats in the documentation: https://pandas.pydata.org/pandas-docs/stable/user_guide/indexing.html#returning-a-view-versus-a-copy\n",
      "  train_1['review']=train_1['review'].apply(lambda x: re.sub(' +',' ',x))\n",
      "<ipython-input-13-a5d3f2b2506d>:8: SettingWithCopyWarning: \n",
      "A value is trying to be set on a copy of a slice from a DataFrame.\n",
      "Try using .loc[row_indexer,col_indexer] = value instead\n",
      "\n",
      "See the caveats in the documentation: https://pandas.pydata.org/pandas-docs/stable/user_guide/indexing.html#returning-a-view-versus-a-copy\n",
      "  test_1['review']=test_1['review'].apply(lambda x: x.lower())\n",
      "<ipython-input-13-a5d3f2b2506d>:9: SettingWithCopyWarning: \n",
      "A value is trying to be set on a copy of a slice from a DataFrame.\n",
      "Try using .loc[row_indexer,col_indexer] = value instead\n",
      "\n",
      "See the caveats in the documentation: https://pandas.pydata.org/pandas-docs/stable/user_guide/indexing.html#returning-a-view-versus-a-copy\n",
      "  test_1['review']=test_1['review'].apply(lambda x: re.sub('\\w*\\d\\w*','', x))\n",
      "<ipython-input-13-a5d3f2b2506d>:10: SettingWithCopyWarning: \n",
      "A value is trying to be set on a copy of a slice from a DataFrame.\n",
      "Try using .loc[row_indexer,col_indexer] = value instead\n",
      "\n",
      "See the caveats in the documentation: https://pandas.pydata.org/pandas-docs/stable/user_guide/indexing.html#returning-a-view-versus-a-copy\n",
      "  test_1['review']=test_1['review'].apply(lambda x: re.sub('[%s]' % re.escape(string.punctuation), '', x))\n",
      "<ipython-input-13-a5d3f2b2506d>:11: SettingWithCopyWarning: \n",
      "A value is trying to be set on a copy of a slice from a DataFrame.\n",
      "Try using .loc[row_indexer,col_indexer] = value instead\n",
      "\n",
      "See the caveats in the documentation: https://pandas.pydata.org/pandas-docs/stable/user_guide/indexing.html#returning-a-view-versus-a-copy\n",
      "  test_1['review']=test_1['review'].apply(lambda x: re.sub(' +',' ',x))\n"
     ]
    }
   ],
   "source": [
    "#Performing preprocessing\n",
    "import re\n",
    "import string\n",
    "train_1['review']=train_1['review'].apply(lambda x: x.lower())\n",
    "train_1['review']=train_1['review'].apply(lambda x: re.sub('\\w*\\d\\w*','', x))\n",
    "train_1['review']=train_1['review'].apply(lambda x: re.sub('[%s]' % re.escape(string.punctuation), '', x))\n",
    "train_1['review']=train_1['review'].apply(lambda x: re.sub(' +',' ',x))\n",
    "test_1['review']=test_1['review'].apply(lambda x: x.lower())\n",
    "test_1['review']=test_1['review'].apply(lambda x: re.sub('\\w*\\d\\w*','', x))\n",
    "test_1['review']=test_1['review'].apply(lambda x: re.sub('[%s]' % re.escape(string.punctuation), '', x))\n",
    "test_1['review']=test_1['review'].apply(lambda x: re.sub(' +',' ',x))\n",
    "# We have lowercased all characters, removed extra spaces, removed words with digits, and removed punctuations!\n"
   ]
  },
  {
   "cell_type": "code",
   "execution_count": 14,
   "id": "575a2e3e",
   "metadata": {},
   "outputs": [
    {
     "data": {
      "text/html": [
       "<div>\n",
       "<style scoped>\n",
       "    .dataframe tbody tr th:only-of-type {\n",
       "        vertical-align: middle;\n",
       "    }\n",
       "\n",
       "    .dataframe tbody tr th {\n",
       "        vertical-align: top;\n",
       "    }\n",
       "\n",
       "    .dataframe thead th {\n",
       "        text-align: right;\n",
       "    }\n",
       "</style>\n",
       "<table border=\"1\" class=\"dataframe\">\n",
       "  <thead>\n",
       "    <tr style=\"text-align: right;\">\n",
       "      <th></th>\n",
       "      <th>rating</th>\n",
       "      <th>title</th>\n",
       "      <th>review</th>\n",
       "    </tr>\n",
       "  </thead>\n",
       "  <tbody>\n",
       "    <tr>\n",
       "      <th>0</th>\n",
       "      <td>2</td>\n",
       "      <td>more like funchuck</td>\n",
       "      <td>gave this to my dad for a gag gift after direc...</td>\n",
       "    </tr>\n",
       "    <tr>\n",
       "      <th>1</th>\n",
       "      <td>4</td>\n",
       "      <td>Inspiring</td>\n",
       "      <td>i hope a lot of people hear this cd we need mo...</td>\n",
       "    </tr>\n",
       "    <tr>\n",
       "      <th>2</th>\n",
       "      <td>4</td>\n",
       "      <td>The best soundtrack ever to anything.</td>\n",
       "      <td>im reading a lot of reviews saying that this i...</td>\n",
       "    </tr>\n",
       "    <tr>\n",
       "      <th>3</th>\n",
       "      <td>3</td>\n",
       "      <td>Chrono Cross OST</td>\n",
       "      <td>the music of yasunori misuda is without questi...</td>\n",
       "    </tr>\n",
       "    <tr>\n",
       "      <th>4</th>\n",
       "      <td>4</td>\n",
       "      <td>Too good to be true</td>\n",
       "      <td>probably the greatest soundtrack in history us...</td>\n",
       "    </tr>\n",
       "  </tbody>\n",
       "</table>\n",
       "</div>"
      ],
      "text/plain": [
       "   rating                                  title                                             review\n",
       "0       2                     more like funchuck  gave this to my dad for a gag gift after direc...\n",
       "1       4                              Inspiring  i hope a lot of people hear this cd we need mo...\n",
       "2       4  The best soundtrack ever to anything.  im reading a lot of reviews saying that this i...\n",
       "3       3                       Chrono Cross OST  the music of yasunori misuda is without questi...\n",
       "4       4                    Too good to be true  probably the greatest soundtrack in history us..."
      ]
     },
     "execution_count": 14,
     "metadata": {},
     "output_type": "execute_result"
    }
   ],
   "source": [
    "train_1.head()"
   ]
  },
  {
   "cell_type": "code",
   "execution_count": 15,
   "id": "b98f83fa",
   "metadata": {},
   "outputs": [
    {
     "data": {
      "text/html": [
       "<div>\n",
       "<style scoped>\n",
       "    .dataframe tbody tr th:only-of-type {\n",
       "        vertical-align: middle;\n",
       "    }\n",
       "\n",
       "    .dataframe tbody tr th {\n",
       "        vertical-align: top;\n",
       "    }\n",
       "\n",
       "    .dataframe thead th {\n",
       "        text-align: right;\n",
       "    }\n",
       "</style>\n",
       "<table border=\"1\" class=\"dataframe\">\n",
       "  <thead>\n",
       "    <tr style=\"text-align: right;\">\n",
       "      <th></th>\n",
       "      <th>rating</th>\n",
       "      <th>title</th>\n",
       "      <th>review</th>\n",
       "    </tr>\n",
       "  </thead>\n",
       "  <tbody>\n",
       "    <tr>\n",
       "      <th>0</th>\n",
       "      <td>0</td>\n",
       "      <td>mens ultrasheer</td>\n",
       "      <td>this model may be ok for sedentary types but i...</td>\n",
       "    </tr>\n",
       "    <tr>\n",
       "      <th>1</th>\n",
       "      <td>3</td>\n",
       "      <td>Surprisingly delightful</td>\n",
       "      <td>this is a fast read filled with unexpected hum...</td>\n",
       "    </tr>\n",
       "    <tr>\n",
       "      <th>2</th>\n",
       "      <td>1</td>\n",
       "      <td>Works, but not as advertised</td>\n",
       "      <td>i bought one of these chargersthe instructions...</td>\n",
       "    </tr>\n",
       "    <tr>\n",
       "      <th>3</th>\n",
       "      <td>1</td>\n",
       "      <td>Oh dear</td>\n",
       "      <td>i was excited to find a book ostensibly about ...</td>\n",
       "    </tr>\n",
       "    <tr>\n",
       "      <th>4</th>\n",
       "      <td>1</td>\n",
       "      <td>Incorrect disc!</td>\n",
       "      <td>i am a big jvc fan but i do not like this mode...</td>\n",
       "    </tr>\n",
       "  </tbody>\n",
       "</table>\n",
       "</div>"
      ],
      "text/plain": [
       "   rating                         title                                             review\n",
       "0       0               mens ultrasheer  this model may be ok for sedentary types but i...\n",
       "1       3       Surprisingly delightful  this is a fast read filled with unexpected hum...\n",
       "2       1  Works, but not as advertised  i bought one of these chargersthe instructions...\n",
       "3       1                       Oh dear  i was excited to find a book ostensibly about ...\n",
       "4       1               Incorrect disc!  i am a big jvc fan but i do not like this mode..."
      ]
     },
     "execution_count": 15,
     "metadata": {},
     "output_type": "execute_result"
    }
   ],
   "source": [
    "test_1.head()"
   ]
  },
  {
   "cell_type": "code",
   "execution_count": 16,
   "id": "6c9a6535",
   "metadata": {},
   "outputs": [
    {
     "name": "stderr",
     "output_type": "stream",
     "text": [
      "[nltk_data] Downloading package wordnet to\n",
      "[nltk_data]     C:\\Users\\91766\\AppData\\Roaming\\nltk_data...\n",
      "[nltk_data]   Package wordnet is already up-to-date!\n",
      "[nltk_data] Downloading package stopwords to\n",
      "[nltk_data]     C:\\Users\\91766\\AppData\\Roaming\\nltk_data...\n",
      "[nltk_data]   Package stopwords is already up-to-date!\n",
      "[nltk_data] Downloading package punkt to\n",
      "[nltk_data]     C:\\Users\\91766\\AppData\\Roaming\\nltk_data...\n",
      "[nltk_data]   Package punkt is already up-to-date!\n"
     ]
    }
   ],
   "source": [
    "import nltk\n",
    "from nltk.corpus import wordnet, stopwords\n",
    "from nltk.tokenize import word_tokenize\n",
    "nltk.download('wordnet')\n",
    "nltk.download('stopwords')\n",
    "nltk.download('punkt')\n",
    "stop_words = set(stopwords.words('english')) "
   ]
  },
  {
   "cell_type": "code",
   "execution_count": 17,
   "id": "3482e3f0",
   "metadata": {},
   "outputs": [],
   "source": [
    "# Returns a sentence without stopwords, and helps us clean our data!\n",
    "def stop_removal(text):\n",
    "    text_tokens = word_tokenize(text)\n",
    "    tokens_without_sw = [word for word in text_tokens if not word in stop_words]\n",
    "    filtered_sentence = (\" \").join(tokens_without_sw)\n",
    "    return filtered_sentence"
   ]
  },
  {
   "cell_type": "code",
   "execution_count": 18,
   "id": "4f858064",
   "metadata": {},
   "outputs": [
    {
     "name": "stderr",
     "output_type": "stream",
     "text": [
      "<ipython-input-18-0a441fc9f8a9>:4: SettingWithCopyWarning: \n",
      "A value is trying to be set on a copy of a slice from a DataFrame.\n",
      "Try using .loc[row_indexer,col_indexer] = value instead\n",
      "\n",
      "See the caveats in the documentation: https://pandas.pydata.org/pandas-docs/stable/user_guide/indexing.html#returning-a-view-versus-a-copy\n",
      "  train_1['review'] = t0\n",
      "<ipython-input-18-0a441fc9f8a9>:8: SettingWithCopyWarning: \n",
      "A value is trying to be set on a copy of a slice from a DataFrame.\n",
      "Try using .loc[row_indexer,col_indexer] = value instead\n",
      "\n",
      "See the caveats in the documentation: https://pandas.pydata.org/pandas-docs/stable/user_guide/indexing.html#returning-a-view-versus-a-copy\n",
      "  test_1['review'] = t\n"
     ]
    }
   ],
   "source": [
    "t0 = []\n",
    "for review in list(train_1['review']):\n",
    "    t0.append(stop_removal(review))\n",
    "train_1['review'] = t0\n",
    "t = []\n",
    "for review in list(test_1['review']):\n",
    "    t.append(stop_removal(review))\n",
    "test_1['review'] = t"
   ]
  },
  {
   "cell_type": "code",
   "execution_count": 19,
   "id": "940fe75a",
   "metadata": {},
   "outputs": [
    {
     "data": {
      "text/html": [
       "<div>\n",
       "<style scoped>\n",
       "    .dataframe tbody tr th:only-of-type {\n",
       "        vertical-align: middle;\n",
       "    }\n",
       "\n",
       "    .dataframe tbody tr th {\n",
       "        vertical-align: top;\n",
       "    }\n",
       "\n",
       "    .dataframe thead th {\n",
       "        text-align: right;\n",
       "    }\n",
       "</style>\n",
       "<table border=\"1\" class=\"dataframe\">\n",
       "  <thead>\n",
       "    <tr style=\"text-align: right;\">\n",
       "      <th></th>\n",
       "      <th>rating</th>\n",
       "      <th>title</th>\n",
       "      <th>review</th>\n",
       "    </tr>\n",
       "  </thead>\n",
       "  <tbody>\n",
       "    <tr>\n",
       "      <th>0</th>\n",
       "      <td>2</td>\n",
       "      <td>more like funchuck</td>\n",
       "      <td>gave dad gag gift directing nunsense got reall...</td>\n",
       "    </tr>\n",
       "    <tr>\n",
       "      <th>1</th>\n",
       "      <td>4</td>\n",
       "      <td>Inspiring</td>\n",
       "      <td>hope lot people hear cd need strong positive v...</td>\n",
       "    </tr>\n",
       "    <tr>\n",
       "      <th>2</th>\n",
       "      <td>4</td>\n",
       "      <td>The best soundtrack ever to anything.</td>\n",
       "      <td>im reading lot reviews saying best game soundt...</td>\n",
       "    </tr>\n",
       "    <tr>\n",
       "      <th>3</th>\n",
       "      <td>3</td>\n",
       "      <td>Chrono Cross OST</td>\n",
       "      <td>music yasunori misuda without question close s...</td>\n",
       "    </tr>\n",
       "    <tr>\n",
       "      <th>4</th>\n",
       "      <td>4</td>\n",
       "      <td>Too good to be true</td>\n",
       "      <td>probably greatest soundtrack history usually b...</td>\n",
       "    </tr>\n",
       "  </tbody>\n",
       "</table>\n",
       "</div>"
      ],
      "text/plain": [
       "   rating                                  title                                             review\n",
       "0       2                     more like funchuck  gave dad gag gift directing nunsense got reall...\n",
       "1       4                              Inspiring  hope lot people hear cd need strong positive v...\n",
       "2       4  The best soundtrack ever to anything.  im reading lot reviews saying best game soundt...\n",
       "3       3                       Chrono Cross OST  music yasunori misuda without question close s...\n",
       "4       4                    Too good to be true  probably greatest soundtrack history usually b..."
      ]
     },
     "execution_count": 19,
     "metadata": {},
     "output_type": "execute_result"
    }
   ],
   "source": [
    "train_1.head()"
   ]
  },
  {
   "cell_type": "code",
   "execution_count": 20,
   "id": "e28c5855",
   "metadata": {},
   "outputs": [
    {
     "data": {
      "text/html": [
       "<div>\n",
       "<style scoped>\n",
       "    .dataframe tbody tr th:only-of-type {\n",
       "        vertical-align: middle;\n",
       "    }\n",
       "\n",
       "    .dataframe tbody tr th {\n",
       "        vertical-align: top;\n",
       "    }\n",
       "\n",
       "    .dataframe thead th {\n",
       "        text-align: right;\n",
       "    }\n",
       "</style>\n",
       "<table border=\"1\" class=\"dataframe\">\n",
       "  <thead>\n",
       "    <tr style=\"text-align: right;\">\n",
       "      <th></th>\n",
       "      <th>rating</th>\n",
       "      <th>title</th>\n",
       "      <th>review</th>\n",
       "    </tr>\n",
       "  </thead>\n",
       "  <tbody>\n",
       "    <tr>\n",
       "      <th>0</th>\n",
       "      <td>0</td>\n",
       "      <td>mens ultrasheer</td>\n",
       "      <td>model may ok sedentary types im active get aro...</td>\n",
       "    </tr>\n",
       "    <tr>\n",
       "      <th>1</th>\n",
       "      <td>3</td>\n",
       "      <td>Surprisingly delightful</td>\n",
       "      <td>fast read filled unexpected humour profound in...</td>\n",
       "    </tr>\n",
       "    <tr>\n",
       "      <th>2</th>\n",
       "      <td>1</td>\n",
       "      <td>Works, but not as advertised</td>\n",
       "      <td>bought one chargersthe instructions say lights...</td>\n",
       "    </tr>\n",
       "    <tr>\n",
       "      <th>3</th>\n",
       "      <td>1</td>\n",
       "      <td>Oh dear</td>\n",
       "      <td>excited find book ostensibly muslim feminism v...</td>\n",
       "    </tr>\n",
       "    <tr>\n",
       "      <th>4</th>\n",
       "      <td>1</td>\n",
       "      <td>Incorrect disc!</td>\n",
       "      <td>big jvc fan like model suspiscious saw several...</td>\n",
       "    </tr>\n",
       "  </tbody>\n",
       "</table>\n",
       "</div>"
      ],
      "text/plain": [
       "   rating                         title                                             review\n",
       "0       0               mens ultrasheer  model may ok sedentary types im active get aro...\n",
       "1       3       Surprisingly delightful  fast read filled unexpected humour profound in...\n",
       "2       1  Works, but not as advertised  bought one chargersthe instructions say lights...\n",
       "3       1                       Oh dear  excited find book ostensibly muslim feminism v...\n",
       "4       1               Incorrect disc!  big jvc fan like model suspiscious saw several..."
      ]
     },
     "execution_count": 20,
     "metadata": {},
     "output_type": "execute_result"
    }
   ],
   "source": [
    "test_1.head()"
   ]
  },
  {
   "cell_type": "code",
   "execution_count": 21,
   "id": "0c92e668",
   "metadata": {},
   "outputs": [
    {
     "name": "stderr",
     "output_type": "stream",
     "text": [
      "[nltk_data] Downloading package averaged_perceptron_tagger to\n",
      "[nltk_data]     C:\\Users\\91766\\AppData\\Roaming\\nltk_data...\n",
      "[nltk_data]   Package averaged_perceptron_tagger is already up-to-\n",
      "[nltk_data]       date!\n"
     ]
    },
    {
     "data": {
      "text/plain": [
       "True"
      ]
     },
     "execution_count": 21,
     "metadata": {},
     "output_type": "execute_result"
    }
   ],
   "source": [
    "nltk.download('averaged_perceptron_tagger')"
   ]
  },
  {
   "cell_type": "code",
   "execution_count": 22,
   "id": "df41b091",
   "metadata": {},
   "outputs": [],
   "source": [
    "# We can use stemming as it is faster, but we'll take the extra time to lemmatize our reviews using POS tagging as well, and \n",
    "# clean our data further by converting words to their root forms with context!\n",
    "\n",
    "from nltk.stem import WordNetLemmatizer\n",
    "lemmatizer = WordNetLemmatizer()\n",
    "\n",
    "# function to convert nltk tag to wordnet tag\n",
    "def nltk_tag_to_wordnet_tag(nltk_tag):\n",
    "    if nltk_tag.startswith('J'):\n",
    "        return wordnet.ADJ\n",
    "    elif nltk_tag.startswith('V'):\n",
    "        return wordnet.VERB\n",
    "    elif nltk_tag.startswith('N'):\n",
    "        return wordnet.NOUN\n",
    "    elif nltk_tag.startswith('R'):\n",
    "        return wordnet.ADV\n",
    "    else:          \n",
    "        return None\n",
    "\n",
    "def lem_rev(sentence):\n",
    "    #tokenize the sentence and find the POS tag for each token\n",
    "    nltk_tagged = nltk.pos_tag(nltk.word_tokenize(sentence))  \n",
    "    #tuple of (token, wordnet_tag)\n",
    "    wordnet_tagged = map(lambda x: (x[0], nltk_tag_to_wordnet_tag(x[1])), nltk_tagged)\n",
    "    lemmatized_sentence = []\n",
    "    for word, tag in wordnet_tagged:\n",
    "        if tag is None:\n",
    "            #if there is no available tag, append the token as is\n",
    "            lemmatized_sentence.append(word)\n",
    "        else:        \n",
    "            #else use the tag to lemmatize the token\n",
    "            lemmatized_sentence.append(lemmatizer.lemmatize(word, tag))\n",
    "    return \" \".join(lemmatized_sentence)"
   ]
  },
  {
   "cell_type": "code",
   "execution_count": 23,
   "id": "ae18b1f7",
   "metadata": {},
   "outputs": [
    {
     "name": "stderr",
     "output_type": "stream",
     "text": [
      "<ipython-input-23-8156536b5369>:4: SettingWithCopyWarning: \n",
      "A value is trying to be set on a copy of a slice from a DataFrame.\n",
      "Try using .loc[row_indexer,col_indexer] = value instead\n",
      "\n",
      "See the caveats in the documentation: https://pandas.pydata.org/pandas-docs/stable/user_guide/indexing.html#returning-a-view-versus-a-copy\n",
      "  train_1['review'] = g0\n",
      "<ipython-input-23-8156536b5369>:8: SettingWithCopyWarning: \n",
      "A value is trying to be set on a copy of a slice from a DataFrame.\n",
      "Try using .loc[row_indexer,col_indexer] = value instead\n",
      "\n",
      "See the caveats in the documentation: https://pandas.pydata.org/pandas-docs/stable/user_guide/indexing.html#returning-a-view-versus-a-copy\n",
      "  test_1['review'] = g\n"
     ]
    }
   ],
   "source": [
    "g0 = []\n",
    "for review in list(train_1['review']):\n",
    "    g0.append(lem_rev(review))\n",
    "train_1['review'] = g0\n",
    "g = []\n",
    "for review in list(test_1['review']):\n",
    "    g.append(lem_rev(review))\n",
    "test_1['review'] = g"
   ]
  },
  {
   "cell_type": "code",
   "execution_count": 24,
   "id": "1bedf3b6",
   "metadata": {},
   "outputs": [
    {
     "data": {
      "text/html": [
       "<div>\n",
       "<style scoped>\n",
       "    .dataframe tbody tr th:only-of-type {\n",
       "        vertical-align: middle;\n",
       "    }\n",
       "\n",
       "    .dataframe tbody tr th {\n",
       "        vertical-align: top;\n",
       "    }\n",
       "\n",
       "    .dataframe thead th {\n",
       "        text-align: right;\n",
       "    }\n",
       "</style>\n",
       "<table border=\"1\" class=\"dataframe\">\n",
       "  <thead>\n",
       "    <tr style=\"text-align: right;\">\n",
       "      <th></th>\n",
       "      <th>rating</th>\n",
       "      <th>title</th>\n",
       "      <th>review</th>\n",
       "    </tr>\n",
       "  </thead>\n",
       "  <tbody>\n",
       "    <tr>\n",
       "      <th>0</th>\n",
       "      <td>2</td>\n",
       "      <td>more like funchuck</td>\n",
       "      <td>give dad gag gift direct nunsense get reall kick</td>\n",
       "    </tr>\n",
       "    <tr>\n",
       "      <th>1</th>\n",
       "      <td>4</td>\n",
       "      <td>Inspiring</td>\n",
       "      <td>hope lot people hear cd need strong positive v...</td>\n",
       "    </tr>\n",
       "    <tr>\n",
       "      <th>2</th>\n",
       "      <td>4</td>\n",
       "      <td>The best soundtrack ever to anything.</td>\n",
       "      <td>im reading lot review say best game soundtrack...</td>\n",
       "    </tr>\n",
       "    <tr>\n",
       "      <th>3</th>\n",
       "      <td>3</td>\n",
       "      <td>Chrono Cross OST</td>\n",
       "      <td>music yasunori misuda without question close s...</td>\n",
       "    </tr>\n",
       "    <tr>\n",
       "      <th>4</th>\n",
       "      <td>4</td>\n",
       "      <td>Too good to be true</td>\n",
       "      <td>probably great soundtrack history usually well...</td>\n",
       "    </tr>\n",
       "  </tbody>\n",
       "</table>\n",
       "</div>"
      ],
      "text/plain": [
       "   rating                                  title                                             review\n",
       "0       2                     more like funchuck   give dad gag gift direct nunsense get reall kick\n",
       "1       4                              Inspiring  hope lot people hear cd need strong positive v...\n",
       "2       4  The best soundtrack ever to anything.  im reading lot review say best game soundtrack...\n",
       "3       3                       Chrono Cross OST  music yasunori misuda without question close s...\n",
       "4       4                    Too good to be true  probably great soundtrack history usually well..."
      ]
     },
     "execution_count": 24,
     "metadata": {},
     "output_type": "execute_result"
    }
   ],
   "source": [
    "train_1.head()"
   ]
  },
  {
   "cell_type": "code",
   "execution_count": 25,
   "id": "f4889261",
   "metadata": {},
   "outputs": [
    {
     "data": {
      "text/html": [
       "<div>\n",
       "<style scoped>\n",
       "    .dataframe tbody tr th:only-of-type {\n",
       "        vertical-align: middle;\n",
       "    }\n",
       "\n",
       "    .dataframe tbody tr th {\n",
       "        vertical-align: top;\n",
       "    }\n",
       "\n",
       "    .dataframe thead th {\n",
       "        text-align: right;\n",
       "    }\n",
       "</style>\n",
       "<table border=\"1\" class=\"dataframe\">\n",
       "  <thead>\n",
       "    <tr style=\"text-align: right;\">\n",
       "      <th></th>\n",
       "      <th>rating</th>\n",
       "      <th>title</th>\n",
       "      <th>review</th>\n",
       "    </tr>\n",
       "  </thead>\n",
       "  <tbody>\n",
       "    <tr>\n",
       "      <th>0</th>\n",
       "      <td>0</td>\n",
       "      <td>mens ultrasheer</td>\n",
       "      <td>model may ok sedentary type im active get arou...</td>\n",
       "    </tr>\n",
       "    <tr>\n",
       "      <th>1</th>\n",
       "      <td>3</td>\n",
       "      <td>Surprisingly delightful</td>\n",
       "      <td>fast read fill unexpected humour profound insi...</td>\n",
       "    </tr>\n",
       "    <tr>\n",
       "      <th>2</th>\n",
       "      <td>1</td>\n",
       "      <td>Works, but not as advertised</td>\n",
       "      <td>buy one chargersthe instruction say light stay...</td>\n",
       "    </tr>\n",
       "    <tr>\n",
       "      <th>3</th>\n",
       "      <td>1</td>\n",
       "      <td>Oh dear</td>\n",
       "      <td>excite find book ostensibly muslim feminism vo...</td>\n",
       "    </tr>\n",
       "    <tr>\n",
       "      <th>4</th>\n",
       "      <td>1</td>\n",
       "      <td>Incorrect disc!</td>\n",
       "      <td>big jvc fan like model suspiscious saw several...</td>\n",
       "    </tr>\n",
       "  </tbody>\n",
       "</table>\n",
       "</div>"
      ],
      "text/plain": [
       "   rating                         title                                             review\n",
       "0       0               mens ultrasheer  model may ok sedentary type im active get arou...\n",
       "1       3       Surprisingly delightful  fast read fill unexpected humour profound insi...\n",
       "2       1  Works, but not as advertised  buy one chargersthe instruction say light stay...\n",
       "3       1                       Oh dear  excite find book ostensibly muslim feminism vo...\n",
       "4       1               Incorrect disc!  big jvc fan like model suspiscious saw several..."
      ]
     },
     "execution_count": 25,
     "metadata": {},
     "output_type": "execute_result"
    }
   ],
   "source": [
    "test_1.head()"
   ]
  },
  {
   "cell_type": "code",
   "execution_count": 26,
   "id": "42136d97",
   "metadata": {},
   "outputs": [],
   "source": [
    "# We begin applying Easy Data Augmentation here, and we only have to augment the training set, as opposed to previous situations\n",
    "# where we had to preprocess the validation set as well!\n",
    "def random_deletion(words, p):\n",
    "\n",
    "    words2 = words.split()\n",
    "    \n",
    "    #obviously, if there's only one word, don't delete it\n",
    "    if len(words2) == 1:\n",
    "        return words2[0]\n",
    "\n",
    "    #randomly delete words with probability p\n",
    "    new_words = []\n",
    "    for word in words2:\n",
    "        r = random.uniform(0, 1)\n",
    "        if r > p:\n",
    "            new_words.append(word)\n",
    "\n",
    "    #if you end up deleting all words, just return a random word\n",
    "    if len(new_words) == 0:\n",
    "        rand_int = random.randint(0, len(words)-1)\n",
    "        return string(words2[rand_int])\n",
    "\n",
    "    sentence = ' '.join(new_words)\n",
    "    \n",
    "    return sentence"
   ]
  },
  {
   "cell_type": "code",
   "execution_count": 27,
   "id": "effe4cd4",
   "metadata": {},
   "outputs": [
    {
     "name": "stderr",
     "output_type": "stream",
     "text": [
      "<ipython-input-27-5b34b2f61219>:4: SettingWithCopyWarning: \n",
      "A value is trying to be set on a copy of a slice from a DataFrame.\n",
      "Try using .loc[row_indexer,col_indexer] = value instead\n",
      "\n",
      "See the caveats in the documentation: https://pandas.pydata.org/pandas-docs/stable/user_guide/indexing.html#returning-a-view-versus-a-copy\n",
      "  train_1['review'] = t1\n"
     ]
    }
   ],
   "source": [
    "t1 = []\n",
    "for review in list(train_1['review']):\n",
    "    t1.append(random_deletion(review, 0.15))\n",
    "train_1['review'] = t1"
   ]
  },
  {
   "cell_type": "code",
   "execution_count": 28,
   "id": "ae518c13",
   "metadata": {},
   "outputs": [
    {
     "data": {
      "text/html": [
       "<div>\n",
       "<style scoped>\n",
       "    .dataframe tbody tr th:only-of-type {\n",
       "        vertical-align: middle;\n",
       "    }\n",
       "\n",
       "    .dataframe tbody tr th {\n",
       "        vertical-align: top;\n",
       "    }\n",
       "\n",
       "    .dataframe thead th {\n",
       "        text-align: right;\n",
       "    }\n",
       "</style>\n",
       "<table border=\"1\" class=\"dataframe\">\n",
       "  <thead>\n",
       "    <tr style=\"text-align: right;\">\n",
       "      <th></th>\n",
       "      <th>rating</th>\n",
       "      <th>title</th>\n",
       "      <th>review</th>\n",
       "    </tr>\n",
       "  </thead>\n",
       "  <tbody>\n",
       "    <tr>\n",
       "      <th>0</th>\n",
       "      <td>2</td>\n",
       "      <td>more like funchuck</td>\n",
       "      <td>give dad gag gift direct nunsense get reall kick</td>\n",
       "    </tr>\n",
       "    <tr>\n",
       "      <th>1</th>\n",
       "      <td>4</td>\n",
       "      <td>Inspiring</td>\n",
       "      <td>hope lot people hear cd need strong positive v...</td>\n",
       "    </tr>\n",
       "    <tr>\n",
       "      <th>2</th>\n",
       "      <td>4</td>\n",
       "      <td>The best soundtrack ever to anything.</td>\n",
       "      <td>im reading lot review say best game soundtrack...</td>\n",
       "    </tr>\n",
       "    <tr>\n",
       "      <th>3</th>\n",
       "      <td>3</td>\n",
       "      <td>Chrono Cross OST</td>\n",
       "      <td>music yasunori misuda question second great no...</td>\n",
       "    </tr>\n",
       "    <tr>\n",
       "      <th>4</th>\n",
       "      <td>4</td>\n",
       "      <td>Too good to be true</td>\n",
       "      <td>great soundtrack history well play game first ...</td>\n",
       "    </tr>\n",
       "  </tbody>\n",
       "</table>\n",
       "</div>"
      ],
      "text/plain": [
       "   rating                                  title                                             review\n",
       "0       2                     more like funchuck   give dad gag gift direct nunsense get reall kick\n",
       "1       4                              Inspiring  hope lot people hear cd need strong positive v...\n",
       "2       4  The best soundtrack ever to anything.  im reading lot review say best game soundtrack...\n",
       "3       3                       Chrono Cross OST  music yasunori misuda question second great no...\n",
       "4       4                    Too good to be true  great soundtrack history well play game first ..."
      ]
     },
     "execution_count": 28,
     "metadata": {},
     "output_type": "execute_result"
    }
   ],
   "source": [
    "train_1.head()"
   ]
  },
  {
   "cell_type": "code",
   "execution_count": 29,
   "id": "c01aaaf9",
   "metadata": {},
   "outputs": [],
   "source": [
    "# Get synonyms of a word\n",
    "def get_synonyms(word):\n",
    "    synonyms = set()\n",
    "    for syn in wordnet.synsets(word): \n",
    "        for l in syn.lemmas(): \n",
    "            synonym = l.name().replace(\"_\", \" \").replace(\"-\", \" \").lower()\n",
    "            synonym = \"\".join([char for char in synonym if char in ' qwertyuiopasdfghjklzxcvbnm'])\n",
    "            synonyms.add(synonym) \n",
    "    \n",
    "    if word in synonyms:\n",
    "        synonyms.remove(word)\n",
    "    \n",
    "    return list(synonyms)"
   ]
  },
  {
   "cell_type": "code",
   "execution_count": 30,
   "id": "e6e49628",
   "metadata": {},
   "outputs": [],
   "source": [
    "# Replace upto n words in a review with any synonym\n",
    "def synonym_replacement(words1, n):\n",
    "    words1 = words1.split()\n",
    "    new_words = words1.copy()\n",
    "    random_word_list = list(set([word for word in words1 if word not in stop_words]))\n",
    "    random.shuffle(random_word_list)\n",
    "    num_replaced = 0\n",
    "    \n",
    "    for random_word in random_word_list:\n",
    "        synonyms = get_synonyms(random_word)\n",
    "        \n",
    "        if len(synonyms) >= 1:\n",
    "            synonym = random.choice(list(synonyms))\n",
    "            new_words = [synonym if word == random_word else word for word in new_words]\n",
    "            num_replaced += 1\n",
    "        \n",
    "        if num_replaced >= n: #only replace up to n words\n",
    "            break\n",
    "\n",
    "    sentence = ' '.join(new_words)\n",
    "\n",
    "    return sentence"
   ]
  },
  {
   "cell_type": "code",
   "execution_count": 31,
   "id": "140de0c1",
   "metadata": {},
   "outputs": [],
   "source": [
    "t2 = []\n",
    "for review in list(train_1['review']):\n",
    "    t2.append(synonym_replacement(review, 4))"
   ]
  },
  {
   "cell_type": "code",
   "execution_count": 32,
   "id": "a2aba43c",
   "metadata": {},
   "outputs": [
    {
     "name": "stderr",
     "output_type": "stream",
     "text": [
      "<ipython-input-32-13159ed72374>:1: SettingWithCopyWarning: \n",
      "A value is trying to be set on a copy of a slice from a DataFrame.\n",
      "Try using .loc[row_indexer,col_indexer] = value instead\n",
      "\n",
      "See the caveats in the documentation: https://pandas.pydata.org/pandas-docs/stable/user_guide/indexing.html#returning-a-view-versus-a-copy\n",
      "  train_1['review'] = t2\n"
     ]
    }
   ],
   "source": [
    "train_1['review'] = t2"
   ]
  },
  {
   "cell_type": "code",
   "execution_count": 33,
   "id": "17d5addc",
   "metadata": {},
   "outputs": [],
   "source": [
    "# Randomly Swapping words in a review!\n",
    "def swap_word(new_words):\n",
    "    \n",
    "    random_idx_1 = random.randint(0, len(new_words)-1)\n",
    "    random_idx_2 = random_idx_1\n",
    "    counter = 0\n",
    "    \n",
    "    while random_idx_2 == random_idx_1:\n",
    "        random_idx_2 = random.randint(0, len(new_words)-1)\n",
    "        counter += 1\n",
    "        \n",
    "        if counter > 3:\n",
    "            return new_words\n",
    "    \n",
    "    new_words[random_idx_1], new_words[random_idx_2] = new_words[random_idx_2], new_words[random_idx_1] \n",
    "    return new_words\n",
    "\n",
    "def random_swap(words, n):\n",
    "    \n",
    "    words = words.split()\n",
    "    new_words = words.copy()\n",
    "    \n",
    "    for _ in range(n):\n",
    "        new_words = swap_word(new_words)\n",
    "        \n",
    "    sentence = ' '.join(new_words)\n",
    "    \n",
    "    return sentence"
   ]
  },
  {
   "cell_type": "code",
   "execution_count": 34,
   "id": "029429a4",
   "metadata": {},
   "outputs": [
    {
     "name": "stderr",
     "output_type": "stream",
     "text": [
      "<ipython-input-34-dd2d0558a449>:4: SettingWithCopyWarning: \n",
      "A value is trying to be set on a copy of a slice from a DataFrame.\n",
      "Try using .loc[row_indexer,col_indexer] = value instead\n",
      "\n",
      "See the caveats in the documentation: https://pandas.pydata.org/pandas-docs/stable/user_guide/indexing.html#returning-a-view-versus-a-copy\n",
      "  train_1['review'] = t3\n"
     ]
    }
   ],
   "source": [
    "t3 = []\n",
    "for review in list(train_1['review']):\n",
    "    t3.append(random_swap(review, 3))\n",
    "train_1['review'] = t3"
   ]
  },
  {
   "cell_type": "code",
   "execution_count": 35,
   "id": "b4287cf1",
   "metadata": {},
   "outputs": [],
   "source": [
    "# Add synonyms of some words in a review\n",
    "def random_insertion(words, n):\n",
    "    \n",
    "    words = words.split()\n",
    "    new_words = words.copy()\n",
    "    \n",
    "    for _ in range(n):\n",
    "        add_word(new_words)\n",
    "        \n",
    "    sentence = ' '.join(new_words)\n",
    "    return sentence\n",
    "\n",
    "def add_word(new_words):\n",
    "    \n",
    "    synonyms = []\n",
    "    counter = 0\n",
    "    \n",
    "    while len(synonyms) < 1:\n",
    "        random_word = new_words[random.randint(0, len(new_words)-1)]\n",
    "        synonyms = get_synonyms(random_word)\n",
    "        counter += 1\n",
    "        if counter >= 10:\n",
    "            return\n",
    "        \n",
    "    random_synonym = synonyms[0]\n",
    "    random_idx = random.randint(0, len(new_words)-1)\n",
    "    new_words.insert(random_idx, random_synonym)"
   ]
  },
  {
   "cell_type": "code",
   "execution_count": 36,
   "id": "19dec846",
   "metadata": {},
   "outputs": [
    {
     "name": "stderr",
     "output_type": "stream",
     "text": [
      "<ipython-input-36-8ef8b76080e6>:4: SettingWithCopyWarning: \n",
      "A value is trying to be set on a copy of a slice from a DataFrame.\n",
      "Try using .loc[row_indexer,col_indexer] = value instead\n",
      "\n",
      "See the caveats in the documentation: https://pandas.pydata.org/pandas-docs/stable/user_guide/indexing.html#returning-a-view-versus-a-copy\n",
      "  train_1['review'] = t4\n"
     ]
    }
   ],
   "source": [
    "t4 = []\n",
    "for review in list(train_1['review']):\n",
    "    t4.append(random_insertion(review, 2))\n",
    "train_1['review'] = t4"
   ]
  },
  {
   "cell_type": "code",
   "execution_count": 37,
   "id": "fe218055",
   "metadata": {},
   "outputs": [
    {
     "data": {
      "text/html": [
       "<div>\n",
       "<style scoped>\n",
       "    .dataframe tbody tr th:only-of-type {\n",
       "        vertical-align: middle;\n",
       "    }\n",
       "\n",
       "    .dataframe tbody tr th {\n",
       "        vertical-align: top;\n",
       "    }\n",
       "\n",
       "    .dataframe thead th {\n",
       "        text-align: right;\n",
       "    }\n",
       "</style>\n",
       "<table border=\"1\" class=\"dataframe\">\n",
       "  <thead>\n",
       "    <tr style=\"text-align: right;\">\n",
       "      <th></th>\n",
       "      <th>rating</th>\n",
       "      <th>title</th>\n",
       "      <th>review</th>\n",
       "    </tr>\n",
       "  </thead>\n",
       "  <tbody>\n",
       "    <tr>\n",
       "      <th>0</th>\n",
       "      <td>2</td>\n",
       "      <td>more like funchuck</td>\n",
       "      <td>grant produce gag kvetch gift place pappa pop ...</td>\n",
       "    </tr>\n",
       "    <tr>\n",
       "      <th>1</th>\n",
       "      <td>4</td>\n",
       "      <td>Inspiring</td>\n",
       "      <td>people lot hope getting cd need strong positiv...</td>\n",
       "    </tr>\n",
       "    <tr>\n",
       "      <th>2</th>\n",
       "      <td>4</td>\n",
       "      <td>The best soundtrack ever to anything.</td>\n",
       "      <td>im reading lot review say best gritty soundtra...</td>\n",
       "    </tr>\n",
       "    <tr>\n",
       "      <th>3</th>\n",
       "      <td>3</td>\n",
       "      <td>Chrono Cross OST</td>\n",
       "      <td>music yasunori misuda question second great no...</td>\n",
       "    </tr>\n",
       "    <tr>\n",
       "      <th>4</th>\n",
       "      <td>4</td>\n",
       "      <td>Too good to be true</td>\n",
       "      <td>peachy soundtrack work well play game first en...</td>\n",
       "    </tr>\n",
       "  </tbody>\n",
       "</table>\n",
       "</div>"
      ],
      "text/plain": [
       "   rating                                  title                                             review\n",
       "0       2                     more like funchuck  grant produce gag kvetch gift place pappa pop ...\n",
       "1       4                              Inspiring  people lot hope getting cd need strong positiv...\n",
       "2       4  The best soundtrack ever to anything.  im reading lot review say best gritty soundtra...\n",
       "3       3                       Chrono Cross OST  music yasunori misuda question second great no...\n",
       "4       4                    Too good to be true  peachy soundtrack work well play game first en..."
      ]
     },
     "execution_count": 37,
     "metadata": {},
     "output_type": "execute_result"
    }
   ],
   "source": [
    "train_1.head()\n",
    "# The final training dataset with preprocessed and augmented reviews"
   ]
  },
  {
   "cell_type": "code",
   "execution_count": 38,
   "id": "77b06641",
   "metadata": {},
   "outputs": [],
   "source": [
    "train_feature=np.array(train_1['review'].values.tolist())\n",
    "train_label=np.array(train_1['rating'].values.tolist())\n",
    "test_feature=np.array(test_1['review'].values.tolist())\n",
    "test_label=np.array(test_1['rating'].values.tolist())\n",
    "test_final_feature=np.array(test_final['review'].values.tolist())\n",
    "test_final_label=np.array(test_final['rating'].values.tolist())"
   ]
  },
  {
   "cell_type": "code",
   "execution_count": 39,
   "id": "cac7a727",
   "metadata": {},
   "outputs": [
    {
     "name": "stdout",
     "output_type": "stream",
     "text": [
      "155101\n"
     ]
    }
   ],
   "source": [
    "from keras_preprocessing.text import Tokenizer\n",
    "tokenizer = Tokenizer()\n",
    "tokenizer.fit_on_texts(train_feature)\n",
    "word_index=tokenizer.word_index\n",
    "vocab_size = len(word_index)+1\n",
    "print(vocab_size)"
   ]
  },
  {
   "cell_type": "code",
   "execution_count": 40,
   "id": "5ce43f2d",
   "metadata": {},
   "outputs": [],
   "source": [
    "train_feature = tokenizer.texts_to_sequences(train_feature)\n",
    "test_feature = tokenizer.texts_to_sequences(test_feature)\n",
    "test_final_feature = tokenizer.texts_to_sequences(test_final_feature)\n",
    "# We tokenize all of our reviews, because that is required as input to a keras model!"
   ]
  },
  {
   "cell_type": "code",
   "execution_count": 41,
   "id": "fbaf3897",
   "metadata": {},
   "outputs": [],
   "source": [
    "from tensorflow.keras.preprocessing.sequence import pad_sequences\n",
    "from tensorflow.keras.utils import to_categorical\n",
    "maxlen = 100\n",
    "train_feature_pad = pad_sequences(train_feature, padding='post', maxlen=maxlen)\n",
    "test_feature_pad = pad_sequences(test_feature, padding='post', maxlen=maxlen)\n",
    "test_final_feature_pad = pad_sequences(test_final_feature, padding='post', maxlen=maxlen)\n",
    "# Reviews with length greater than 100 are cut off at 100, while reviews with length less than 100 are padded with zeros till \n",
    "# a length of 100 is obtained!"
   ]
  },
  {
   "cell_type": "code",
   "execution_count": 42,
   "id": "3d3faa80",
   "metadata": {},
   "outputs": [],
   "source": [
    "from tensorflow.keras.layers import Dense, Embedding, Bidirectional\n",
    "# Building the model containing an Embedding and a Birdirectional LSTM Layer\n",
    "from tensorflow.keras.models import Sequential\n",
    "model = tf.keras.Sequential([\n",
    "    tf.keras.layers.Embedding(vocab_size, 32, input_length=maxlen),\n",
    "    tf.keras.layers.Bidirectional(tf.keras.layers.LSTM(32)),\n",
    "    tf.keras.layers.Dense(32, activation='relu'),\n",
    "    tf.keras.layers.Dense(5, activation='softmax')\n",
    "])"
   ]
  },
  {
   "cell_type": "code",
   "execution_count": 43,
   "id": "7c9a1280",
   "metadata": {},
   "outputs": [
    {
     "name": "stdout",
     "output_type": "stream",
     "text": [
      "Model: \"sequential\"\n",
      "_________________________________________________________________\n",
      "Layer (type)                 Output Shape              Param #   \n",
      "=================================================================\n",
      "embedding (Embedding)        (None, 100, 32)           4963232   \n",
      "_________________________________________________________________\n",
      "bidirectional (Bidirectional (None, 64)                16640     \n",
      "_________________________________________________________________\n",
      "dense (Dense)                (None, 32)                2080      \n",
      "_________________________________________________________________\n",
      "dense_1 (Dense)              (None, 5)                 165       \n",
      "=================================================================\n",
      "Total params: 4,982,117\n",
      "Trainable params: 4,982,117\n",
      "Non-trainable params: 0\n",
      "_________________________________________________________________\n",
      "None\n"
     ]
    }
   ],
   "source": [
    "model.compile(optimizer='adam', loss='sparse_categorical_crossentropy', metrics=['accuracy'])\n",
    "print(model.summary())"
   ]
  },
  {
   "cell_type": "code",
   "execution_count": 44,
   "id": "77f7e6f5",
   "metadata": {
    "scrolled": true
   },
   "outputs": [
    {
     "name": "stdout",
     "output_type": "stream",
     "text": [
      "Epoch 1/2\n",
      "1641/1641 - 174s - loss: 1.3664 - accuracy: 0.3893 - val_loss: 1.2486 - val_accuracy: 0.4503\n",
      "Epoch 2/2\n",
      "1641/1641 - 169s - loss: 1.1431 - accuracy: 0.5169 - val_loss: 1.2598 - val_accuracy: 0.4561\n"
     ]
    }
   ],
   "source": [
    "num_epochs = 2\n",
    "batch = 64\n",
    "history = model.fit(train_feature_pad, train_label, shuffle=True, batch_size=batch, epochs=num_epochs, validation_data=(test_feature_pad, test_label), verbose=2)\n",
    "# We don't need more epochs as I found that results in overfitting, and the model doesn't do better than 46% accuracy. A bit of \n",
    "# hyperparameter tuning may push the accuracy (validation) upto 47%.\n",
    "# The benchmark accuracy on this dataset is around 66% achieved by BERT (although that was achieved after training on the complete dataset!)"
   ]
  },
  {
   "cell_type": "code",
   "execution_count": 45,
   "id": "5ca1791a",
   "metadata": {},
   "outputs": [
    {
     "data": {
      "image/png": "[encoded data removed]",
      "text/plain": [
       "<Figure size 432x288 with 1 Axes>"
      ]
     },
     "metadata": {
      "needs_background": "light"
     },
     "output_type": "display_data"
    },
    {
     "data": {
      "image/png": "[encoded data removed]",
      "text/plain": [
       "<Figure size 432x288 with 1 Axes>"
      ]
     },
     "metadata": {
      "needs_background": "light"
     },
     "output_type": "display_data"
    }
   ],
   "source": [
    "def plot_graphs(history, string):\n",
    "  plt.plot(history.history[string])\n",
    "  plt.plot(history.history['val_'+string])\n",
    "  plt.xlabel(\"Epochs\")\n",
    "  plt.ylabel(string)\n",
    "  plt.legend([string, 'val_'+string])\n",
    "  plt.show()\n",
    "  \n",
    "plot_graphs(history, \"accuracy\")\n",
    "plot_graphs(history, \"loss\")\n",
    "# There was a very slight increase in accuracy at the end of the second epoch, and even that coincided with a minor increase in \n",
    "# loss, so we don't need to train any further!"
   ]
  },
  {
   "cell_type": "code",
   "execution_count": 46,
   "id": "cd134534",
   "metadata": {},
   "outputs": [
    {
     "name": "stdout",
     "output_type": "stream",
     "text": [
      "625/625 [==============================] - 6s 10ms/step - loss: 1.4959 - accuracy: 0.3883\n"
     ]
    },
    {
     "data": {
      "text/plain": [
       "[1.49586820602417, 0.38826942443847656]"
      ]
     },
     "execution_count": 46,
     "metadata": {},
     "output_type": "execute_result"
    }
   ],
   "source": [
    "model.evaluate(test_final_feature_pad, test_final_label)\n",
    "# The performance of the model is evaluated using a dataset where no preprocessing of the reviews has been done, and we'll \n",
    "# need some preprocessing of real world data to get similar accuracy to the validation set!"
   ]
  }
 ],
 "metadata": {
  "kernelspec": {
   "display_name": "Python 3",
   "language": "python",
   "name": "python3"
  },
  "language_info": {
   "codemirror_mode": {
    "name": "ipython",
    "version": 3
   },
   "file_extension": ".py",
   "mimetype": "text/x-python",
   "name": "python",
   "nbconvert_exporter": "python",
   "pygments_lexer": "ipython3",
   "version": "3.8.8"
  }
 },
 "nbformat": 4,
 "nbformat_minor": 5
}
